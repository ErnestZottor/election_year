{
 "cells": [
  {
   "cell_type": "code",
   "execution_count": 1,
   "id": "beb25a23",
   "metadata": {},
   "outputs": [],
   "source": [
    "\n",
    "import numpy as np\n",
    "from matplotlib import pyplot as plt\n",
    "\n",
    "survey_responses = ['Ceballos', 'Kerrigan', 'Ceballos', 'Ceballos', 'Ceballos','Kerrigan', 'Kerrigan', 'Ceballos', 'Ceballos', 'Ceballos', \n",
    "'Kerrigan', 'Kerrigan', 'Ceballos', 'Ceballos', 'Kerrigan', 'Kerrigan', 'Ceballos', 'Ceballos', 'Kerrigan', 'Kerrigan', 'Kerrigan', 'Kerrigan', 'Kerrigan', 'Kerrigan', 'Ceballos', 'Ceballos', 'Ceballos', 'Ceballos', 'Ceballos', 'Ceballos',\n",
    "'Kerrigan', 'Kerrigan', 'Ceballos', 'Ceballos', 'Ceballos', 'Kerrigan', 'Kerrigan', 'Ceballos', 'Ceballos', 'Kerrigan', 'Kerrigan', 'Ceballos', 'Ceballos', 'Kerrigan', 'Kerrigan', 'Kerrigan', 'Kerrigan', 'Kerrigan', 'Kerrigan', 'Ceballos',\n",
    "'Kerrigan', 'Kerrigan', 'Ceballos', 'Ceballos', 'Ceballos', 'Kerrigan', 'Kerrigan', 'Ceballos', 'Ceballos', 'Kerrigan', 'Kerrigan', 'Ceballos', 'Ceballos', 'Kerrigan', 'Kerrigan', 'Kerrigan', 'Kerrigan', 'Kerrigan', 'Kerrigan', 'Ceballos']\n"
   ]
  },
  {
   "cell_type": "code",
   "execution_count": 2,
   "id": "d9422bdc",
   "metadata": {},
   "outputs": [
    {
     "name": "stdout",
     "output_type": "stream",
     "text": [
      "33\n",
      "0.4714285714285714\n"
     ]
    },
    {
     "data": {
      "image/png": "[encoded data removed]",
      "text/plain": [
       "<Figure size 432x288 with 1 Axes>"
      ]
     },
     "metadata": {
      "needs_background": "light"
     },
     "output_type": "display_data"
    }
   ],
   "source": [
    "\n",
    "total_ceballos = len([name for name in survey_responses if name =='Ceballos'])\n",
    "percentage_ceballos = np.mean(np.array(survey_responses) =='Ceballos')\n",
    "print(total_ceballos)\n",
    "print(percentage_ceballos)\n",
    "\n",
    "survey_length = float(len(survey_responses))\n",
    "possible_surveys = np.random.binomial(survey_length, 0.54, size=10000) / survey_length\n",
    "\n",
    "plt.hist(possible_surveys, range=(0, 1), bins=20)\n",
    "plt.show()\n",
    "\n"
   ]
  },
  {
   "cell_type": "code",
   "execution_count": 3,
   "id": "0f8437a6",
   "metadata": {},
   "outputs": [
    {
     "name": "stdout",
     "output_type": "stream",
     "text": [
      "0.2127\n",
      "0.0\n"
     ]
    }
   ],
   "source": [
    "possible_surveys_length = float(len(possible_surveys))\n",
    "incorrect_predictions = len(possible_surveys[possible_surveys < 0.5])\n",
    "\n",
    "ceballos_loss_surveys = incorrect_predictions / possible_surveys_length\n",
    "\n",
    "print(ceballos_loss_surveys)\n",
    "\n",
    "large_survey_length = float(7000)\n",
    "large_survey = np.random.binomial(large_survey_length, 0.54, size=10000) / large_survey_length\n",
    "\n",
    "incorrect_predictions = len(large_survey[large_survey < 0.5])\n",
    "\n",
    "ceballos_loss_new = incorrect_predictions / large_survey_length\n",
    "\n",
    "print(ceballos_loss_new)"
   ]
  },
  {
   "cell_type": "code",
   "execution_count": null,
   "id": "7615ae78",
   "metadata": {},
   "outputs": [],
   "source": []
  }
 ],
 "metadata": {
  "kernelspec": {
   "display_name": "Python 3",
   "language": "python",
   "name": "python3"
  },
  "language_info": {
   "codemirror_mode": {
    "name": "ipython",
    "version": 3
   },
   "file_extension": ".py",
   "mimetype": "text/x-python",
   "name": "python",
   "nbconvert_exporter": "python",
   "pygments_lexer": "ipython3",
   "version": "3.8.8"
  }
 },
 "nbformat": 4,
 "nbformat_minor": 5
}
